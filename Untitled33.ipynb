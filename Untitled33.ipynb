{
  "nbformat": 4,
  "nbformat_minor": 0,
  "metadata": {
    "colab": {
      "provenance": [],
      "include_colab_link": true
    },
    "kernelspec": {
      "name": "python3",
      "display_name": "Python 3"
    },
    "language_info": {
      "name": "python"
    }
  },
  "cells": [
    {
      "cell_type": "markdown",
      "metadata": {
        "id": "view-in-github",
        "colab_type": "text"
      },
      "source": [
        "<a href=\"https://colab.research.google.com/github/saideshith1/datascence_demo/blob/main/Untitled33.ipynb\" target=\"_parent\"><img src=\"https://colab.research.google.com/assets/colab-badge.svg\" alt=\"Open In Colab\"/></a>"
      ]
    },
    {
      "cell_type": "markdown",
      "source": [
        "## data loading"
      ],
      "metadata": {
        "id": "t6kjV2FwGs58"
      }
    },
    {
      "cell_type": "code",
      "source": [],
      "metadata": {
        "id": "6L0MOTviHT5D"
      },
      "execution_count": null,
      "outputs": []
    },
    {
      "cell_type": "code",
      "execution_count": null,
      "metadata": {
        "id": "_I9fb1xWGr4P"
      },
      "outputs": [],
      "source": []
    },
    {
      "cell_type": "markdown",
      "source": [
        "## data preprocessing"
      ],
      "metadata": {
        "id": "sCbzF-45GxDi"
      }
    },
    {
      "cell_type": "code",
      "source": [],
      "metadata": {
        "id": "WQoac6gLGyot"
      },
      "execution_count": null,
      "outputs": []
    },
    {
      "cell_type": "markdown",
      "source": [
        "##data cleaning"
      ],
      "metadata": {
        "id": "0bM4DZQoG0Hr"
      }
    },
    {
      "cell_type": "code",
      "source": [
        "##"
      ],
      "metadata": {
        "id": "YnJmviNCGzAC"
      },
      "execution_count": null,
      "outputs": []
    },
    {
      "cell_type": "markdown",
      "source": [
        "## model training"
      ],
      "metadata": {
        "id": "rqSgHxyWG3KL"
      }
    },
    {
      "cell_type": "code",
      "source": [],
      "metadata": {
        "id": "HR03RIInG2Yf"
      },
      "execution_count": null,
      "outputs": []
    },
    {
      "cell_type": "markdown",
      "source": [
        "##model testing"
      ],
      "metadata": {
        "id": "yDI59wAFG6PI"
      }
    },
    {
      "cell_type": "code",
      "source": [],
      "metadata": {
        "id": "pfAD4e02G79w"
      },
      "execution_count": null,
      "outputs": []
    }
  ]
}